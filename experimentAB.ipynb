{
 "cells": [
  {
   "cell_type": "markdown",
   "metadata": {},
   "source": [
    "# A. EFFECT OF THE NUMBER OF TRAINING SAMPLES ON PERFORMANCE\n",
    "In this experiment, we will evaluate the effect of proposed few-shot learning method to address the first two challenges in limited data fault diagnosis: 1) industry systems are not allowed to run into faulty states due to the consequences, especially for critical systems and failures; 2) most electromechanical failures occur slowly and follow a degradation path such that failure degradation of a system might take months or even years. We conducted a series of experiments on the training data in datasets D with 90, 120, 300, 900, 1500, 3000, 6000, 12000, 19800 samples respectively, then evaluated the effect of numbers on performance for each training model. We repeated each experiment ten times to deal with the randomness of the algorithms.\n",
    "\n",
    "# B. PERFORMANCE UNDER NOISE ENVIRONMENT\n",
    "In this experient, we will evaluate effect of the proposed few-shot learning method to address the third challenge in limited data fault diagnosis: \n",
    "working conditions of mechanical systems are very complicated and change many times from time to time according to production requirement. It is unrealistic to collect and label enough training samples. \n",
    "We discuss the performance under noise environment to simulate the change of working conditions in datasets D.\n",
    "Signal-to-noise ratio (SNR) is defined as the ratio of signal power to the noise power, often expressed in decibels detailed as follows:\n",
    "\\begin{equation}\\label{eq:SNR}\n",
    "    \\small\n",
    "    \\operatorname{SNR_{dB}} = 10\\operatorname{log}_{10}(P_{signal}/P_{noise}) \n",
    "\\end{equation}\n",
    "where $P_{signal}$ and $P_{noise}$ are the power of the signal and the noise, respectively.\n",
    "In this case, the models are trained with the original data provided by CWRU, then tested with added different SNR white Gaussian test samples. The different SNR ranges from -4 dB to 10 dB. \n"
   ]
  },
  {
   "cell_type": "code",
   "execution_count": 1,
   "metadata": {},
   "outputs": [
    {
     "name": "stderr",
     "output_type": "stream",
     "text": [
      "Using TensorFlow backend.\n"
     ]
    }
   ],
   "source": [
    "%matplotlib inline\n",
    "from keras.backend.tensorflow_backend import set_session\n",
    "import tensorflow as tf\n",
    "# set the memory usage\n",
    "tf_config = tf.ConfigProto()\n",
    "tf_config.gpu_options.allow_growth = True\n",
    "set_session(tf.Session(config=tf_config))\n",
    "\n",
    "import matplotlib.pyplot as plt\n",
    "from scipy.io import loadmat\n",
    "import numpy as np\n",
    "import imp\n",
    "import pandas as pd\n"
   ]
  },
  {
   "cell_type": "markdown",
   "metadata": {},
   "source": [
    "# load data"
   ]
  },
  {
   "cell_type": "code",
   "execution_count": 2,
   "metadata": {},
   "outputs": [
    {
     "name": "stdout",
     "output_type": "stream",
     "text": [
      "Datasets/CWRU 12DriveEndFault 1730\n",
      "0 Datasets/CWRU/NormalBaseline/1730/Normal.mat\n",
      "(485643, 2)\n",
      "1 Datasets/CWRU/NormalBaseline/1750/Normal.mat\n",
      "dict_keys(['ans', 'X098_FE_time', '__globals__', 'X099_FE_time', '__version__', 'X099_DE_time', 'X098_DE_time', '__header__'])\n",
      "(483903, 2)\n",
      "2 Datasets/CWRU/NormalBaseline/1772/Normal.mat\n",
      "(483903, 2)\n",
      "3 Datasets/CWRU/12DriveEndFault/1730/0.007-Ball.mat\n",
      "(121556, 2)\n",
      "4 Datasets/CWRU/12DriveEndFault/1750/0.007-Ball.mat\n",
      "(121556, 2)\n",
      "5 Datasets/CWRU/12DriveEndFault/1772/0.007-Ball.mat\n",
      "(121410, 2)\n",
      "6 Datasets/CWRU/12DriveEndFault/1730/0.014-Ball.mat\n",
      "(122136, 2)\n",
      "7 Datasets/CWRU/12DriveEndFault/1750/0.014-Ball.mat\n",
      "(121991, 2)\n",
      "8 Datasets/CWRU/12DriveEndFault/1772/0.014-Ball.mat\n",
      "(122136, 2)\n",
      "9 Datasets/CWRU/12DriveEndFault/1730/0.021-Ball.mat\n",
      "(122136, 2)\n",
      "10 Datasets/CWRU/12DriveEndFault/1750/0.021-Ball.mat\n",
      "(122136, 2)\n",
      "11 Datasets/CWRU/12DriveEndFault/1772/0.021-Ball.mat\n",
      "(121701, 2)\n",
      "12 Datasets/CWRU/12DriveEndFault/1730/0.007-InnerRace.mat\n",
      "(122917, 2)\n",
      "13 Datasets/CWRU/12DriveEndFault/1750/0.007-InnerRace.mat\n",
      "(122136, 2)\n",
      "14 Datasets/CWRU/12DriveEndFault/1772/0.007-InnerRace.mat\n",
      "(121991, 2)\n",
      "15 Datasets/CWRU/12DriveEndFault/1730/0.014-InnerRace.mat\n",
      "(121701, 2)\n",
      "16 Datasets/CWRU/12DriveEndFault/1750/0.014-InnerRace.mat\n",
      "(121846, 2)\n",
      "17 Datasets/CWRU/12DriveEndFault/1772/0.014-InnerRace.mat\n",
      "(121846, 2)\n",
      "18 Datasets/CWRU/12DriveEndFault/1730/0.021-InnerRace.mat\n",
      "(121991, 2)\n",
      "19 Datasets/CWRU/12DriveEndFault/1750/0.021-InnerRace.mat\n",
      "(121846, 2)\n",
      "20 Datasets/CWRU/12DriveEndFault/1772/0.021-InnerRace.mat\n",
      "(121556, 2)\n",
      "21 Datasets/CWRU/12DriveEndFault/1730/0.007-OuterRace6.mat\n",
      "(122571, 2)\n",
      "22 Datasets/CWRU/12DriveEndFault/1750/0.007-OuterRace6.mat\n",
      "(121410, 2)\n",
      "23 Datasets/CWRU/12DriveEndFault/1772/0.007-OuterRace6.mat\n",
      "(122426, 2)\n",
      "24 Datasets/CWRU/12DriveEndFault/1730/0.014-OuterRace6.mat\n",
      "(121991, 2)\n",
      "25 Datasets/CWRU/12DriveEndFault/1750/0.014-OuterRace6.mat\n",
      "(121846, 2)\n",
      "26 Datasets/CWRU/12DriveEndFault/1772/0.014-OuterRace6.mat\n",
      "(122136, 2)\n",
      "27 Datasets/CWRU/12DriveEndFault/1730/0.021-OuterRace6.mat\n",
      "(121991, 2)\n",
      "28 Datasets/CWRU/12DriveEndFault/1750/0.021-OuterRace6.mat\n",
      "(122281, 2)\n",
      "29 Datasets/CWRU/12DriveEndFault/1772/0.021-OuterRace6.mat\n",
      "(121991, 2)\n"
     ]
    },
    {
     "data": {
      "text/plain": [
       "(10,\n",
       " [('NormalBaselineNormal', 0),\n",
       "  ('12DriveEndFault0.007-Ball', 1),\n",
       "  ('12DriveEndFault0.014-Ball', 2),\n",
       "  ('12DriveEndFault0.021-Ball', 3),\n",
       "  ('12DriveEndFault0.007-InnerRace', 4),\n",
       "  ('12DriveEndFault0.014-InnerRace', 5),\n",
       "  ('12DriveEndFault0.021-InnerRace', 6),\n",
       "  ('12DriveEndFault0.007-OuterRace6', 7),\n",
       "  ('12DriveEndFault0.014-OuterRace6', 8),\n",
       "  ('12DriveEndFault0.021-OuterRace6', 9)],\n",
       " 19800,\n",
       " 750)"
      ]
     },
     "execution_count": 2,
     "metadata": {},
     "output_type": "execute_result"
    }
   ],
   "source": [
    "import cwru \n",
    "\n",
    "window_size = 2048\n",
    "data = cwru.CWRU(['12DriveEndFault'], ['1772', '1750', '1730'], window_size)\n",
    "data.nclasses,data.classes,len(data.X_train),len(data.X_test)"
   ]
  },
  {
   "cell_type": "markdown",
   "metadata": {},
   "source": [
    "### Load models"
   ]
  },
  {
   "cell_type": "code",
   "execution_count": 3,
   "metadata": {},
   "outputs": [
    {
     "name": "stdout",
     "output_type": "stream",
     "text": [
      "\n",
      "siamese_net summary:\n",
      "__________________________________________________________________________________________________\n",
      "Layer (type)                    Output Shape         Param #     Connected to                     \n",
      "==================================================================================================\n",
      "input_1 (InputLayer)            (None, 2048, 2)      0                                            \n",
      "__________________________________________________________________________________________________\n",
      "input_2 (InputLayer)            (None, 2048, 2)      0                                            \n",
      "__________________________________________________________________________________________________\n",
      "sequential_1 (Sequential)       (None, 100)          51796       input_1[0][0]                    \n",
      "                                                                 input_2[0][0]                    \n",
      "__________________________________________________________________________________________________\n",
      "lambda_1 (Lambda)               (None, 100)          0           sequential_1[1][0]               \n",
      "                                                                 sequential_1[2][0]               \n",
      "__________________________________________________________________________________________________\n",
      "dropout_1 (Dropout)             (None, 100)          0           lambda_1[0][0]                   \n",
      "__________________________________________________________________________________________________\n",
      "dense_2 (Dense)                 (None, 1)            101         dropout_1[0][0]                  \n",
      "==================================================================================================\n",
      "Total params: 51,897\n",
      "Trainable params: 51,897\n",
      "Non-trainable params: 0\n",
      "__________________________________________________________________________________________________\n"
     ]
    }
   ],
   "source": [
    "import models\n",
    "# imp.reload(models)\n",
    "siamese_net = models.load_siamese_net((window_size,2))\n",
    "print('\\nsiamese_net summary:')\n",
    "siamese_net.summary()"
   ]
  },
  {
   "cell_type": "code",
   "execution_count": 4,
   "metadata": {},
   "outputs": [
    {
     "name": "stdout",
     "output_type": "stream",
     "text": [
      "\n",
      "sequential_3 is WDCNN:\n",
      "_________________________________________________________________\n",
      "Layer (type)                 Output Shape              Param #   \n",
      "=================================================================\n",
      "conv1d_1 (Conv1D)            (None, 128, 16)           2064      \n",
      "_________________________________________________________________\n",
      "max_pooling1d_1 (MaxPooling1 (None, 64, 16)            0         \n",
      "_________________________________________________________________\n",
      "conv1d_2 (Conv1D)            (None, 64, 32)            1568      \n",
      "_________________________________________________________________\n",
      "max_pooling1d_2 (MaxPooling1 (None, 32, 32)            0         \n",
      "_________________________________________________________________\n",
      "conv1d_3 (Conv1D)            (None, 32, 64)            4160      \n",
      "_________________________________________________________________\n",
      "max_pooling1d_3 (MaxPooling1 (None, 16, 64)            0         \n",
      "_________________________________________________________________\n",
      "conv1d_4 (Conv1D)            (None, 16, 64)            12352     \n",
      "_________________________________________________________________\n",
      "max_pooling1d_4 (MaxPooling1 (None, 8, 64)             0         \n",
      "_________________________________________________________________\n",
      "conv1d_5 (Conv1D)            (None, 6, 64)             12352     \n",
      "_________________________________________________________________\n",
      "max_pooling1d_5 (MaxPooling1 (None, 3, 64)             0         \n",
      "_________________________________________________________________\n",
      "flatten_1 (Flatten)          (None, 192)               0         \n",
      "_________________________________________________________________\n",
      "dense_1 (Dense)              (None, 100)               19300     \n",
      "=================================================================\n",
      "Total params: 51,796\n",
      "Trainable params: 51,796\n",
      "Non-trainable params: 0\n",
      "_________________________________________________________________\n"
     ]
    }
   ],
   "source": [
    "print('\\nsequential_3 is WDCNN:')\n",
    "siamese_net.layers[2].summary()"
   ]
  },
  {
   "cell_type": "code",
   "execution_count": 5,
   "metadata": {},
   "outputs": [
    {
     "name": "stdout",
     "output_type": "stream",
     "text": [
      "52806\n",
      "\n",
      "wdcnn_net summary:\n",
      "_________________________________________________________________\n",
      "Layer (type)                 Output Shape              Param #   \n",
      "=================================================================\n",
      "input_3 (InputLayer)         (None, 2048, 2)           0         \n",
      "_________________________________________________________________\n",
      "sequential_2 (Sequential)    (None, 100)               51796     \n",
      "_________________________________________________________________\n",
      "dropout_2 (Dropout)          (None, 100)               0         \n",
      "_________________________________________________________________\n",
      "dense_4 (Dense)              (None, 10)                1010      \n",
      "=================================================================\n",
      "Total params: 52,806\n",
      "Trainable params: 52,806\n",
      "Non-trainable params: 0\n",
      "_________________________________________________________________\n"
     ]
    }
   ],
   "source": [
    "wdcnn_net = models.load_wdcnn_net()\n",
    "print('\\nwdcnn_net summary:')\n",
    "wdcnn_net.summary()"
   ]
  },
  {
   "cell_type": "markdown",
   "metadata": {},
   "source": [
    "## Config"
   ]
  },
  {
   "cell_type": "code",
   "execution_count": 6,
   "metadata": {},
   "outputs": [],
   "source": [
    "import keras\n",
    "from sklearn.metrics import accuracy_score\n",
    "from sklearn.model_selection import train_test_split\n",
    "from keras.callbacks import ModelCheckpoint,EarlyStopping\n",
    "\n",
    "import siamese\n",
    "imp.reload(siamese)\n",
    "import utils\n",
    "imp.reload(utils)\n",
    "\n",
    "snrs = [-4,-2,0,2,4,6,8,10,None]\n",
    "\n",
    "\n",
    "settings = {\n",
    "  \"N_way\": 10,           # how many classes for testing one-shot tasks>\n",
    "  \"batch_size\": 32,\n",
    "  \"best\": -1,\n",
    "  \"evaluate_every\": 200,   # interval for evaluating on one-shot tasks\n",
    "  \"loss_every\": 20,      # interval for printing loss (iterations)\n",
    "  \"n_iter\": 15000,\n",
    "  \"n_val\": 2,          #how many one-shot tasks to validate on?\n",
    "  \"n\": 0,\n",
    "  \"save_path\":\"\",\n",
    "  \"save_weights_file\": \"weights-best-10-oneshot-low-data.hdf5\"\n",
    "}\n",
    "\n",
    "exp_name = \"EXP-AB\"\n",
    "# exps = [60,90,120,200,300,600,900,1500,3000,6000,12000,19800]\n",
    "exps = [60,90,120,200,300,600,900,1500,6000,19800]\n",
    "# exps = [60,90,120]\n",
    "times = 20\n"
   ]
  },
  {
   "cell_type": "markdown",
   "metadata": {},
   "source": [
    "### Training & Testing"
   ]
  },
  {
   "cell_type": "code",
   "execution_count": null,
   "metadata": {
    "scrolled": true
   },
   "outputs": [],
   "source": [
    "is_training = False   # enable or disable train models. if enable training, save best models will be update.\n",
    "\n",
    "def EXPAB_train_and_test(exp_name,exps,is_training):\n",
    "    train_classes = sorted(list(set(data.y_train)))\n",
    "    train_indices = [np.where(data.y_train == i)[0] for i in train_classes]\n",
    "    for exp in exps:\n",
    "        scores_1_shot = []\n",
    "        scores_5_shot = []\n",
    "        scores_5_shot_prod = []\n",
    "        scores_wdcnn = []\n",
    "        num = int(exp/len(train_classes))\n",
    "        settings['evaluate_every'] = 300 if exp<1000 else 600\n",
    "        print(settings['evaluate_every'])\n",
    "        for time_idx in range(times):\n",
    "            seed = int(time_idx/4)*10\n",
    "            np.random.seed(seed)\n",
    "            print('random seed:',seed)\n",
    "            print(\"\\n%s-%s\"%(exp,time_idx) + '*'*80)\n",
    "            settings[\"save_path\"] = \"tmp/%s/size_%s/time_%s/\" % (exp_name,exp,time_idx)\n",
    "            data._mkdir(settings[\"save_path\"])\n",
    "\n",
    "            train_idxs = []\n",
    "            val_idxs = []\n",
    "            for i, c in enumerate(train_classes):\n",
    "                select_idx = train_indices[i][np.random.choice(len(train_indices[i]), num, replace=False)]\n",
    "                split = int(0.6*num)\n",
    "                train_idxs.extend(select_idx[:split])\n",
    "                val_idxs.extend(select_idx[split:])\n",
    "            X_train, y_train = data.X_train[train_idxs],data.y_train[train_idxs], \n",
    "            X_val, y_val = data.X_train[val_idxs],data.y_train[val_idxs], \n",
    "            \n",
    "            print(train_idxs[0:10])\n",
    "            print(val_idxs[0:10])\n",
    "\n",
    "            # load one-shot model and training\n",
    "            siamese_net = models.load_siamese_net()\n",
    "            siamese_loader = siamese.Siamese_Loader(X_train,\n",
    "                                            y_train,\n",
    "                                            X_val,\n",
    "                                            y_val)\n",
    "\n",
    "            if(is_training):\n",
    "                print(siamese.train_and_test_oneshot(settings,siamese_net,siamese_loader))\n",
    "\n",
    "                \n",
    "            # load wdcnn model and training\n",
    "            y_train = keras.utils.to_categorical(y_train, data.nclasses)\n",
    "            y_val = keras.utils.to_categorical(y_val, data.nclasses)\n",
    "            y_test = keras.utils.to_categorical(data.y_test, data.nclasses)\n",
    "\n",
    "            earlyStopping = EarlyStopping(monitor='val_loss', patience=20, verbose=0, mode='min')\n",
    "            # checkpoint\n",
    "            # filepath=\"tmp/weights-best-cnn-{epoch:02d}-{val_acc:.2f}.hdf5\"\n",
    "            filepath=\"%sweights-best-10-cnn-low-data.hdf5\" % (settings[\"save_path\"])\n",
    "            checkpoint = ModelCheckpoint(filepath, monitor='val_acc', verbose=0, save_best_only=True, mode='max')\n",
    "            callbacks_list = [earlyStopping,checkpoint]\n",
    "\n",
    "            wdcnn_net = models.load_wdcnn_net()\n",
    "            if(is_training):\n",
    "                    wdcnn_net.fit(X_train, y_train,\n",
    "                              batch_size=32,\n",
    "                              epochs=300,\n",
    "                              verbose=0,\n",
    "                              callbacks=callbacks_list,\n",
    "                              validation_data=(X_val, y_val))\n",
    "                    \n",
    "            # loading best weights and testing\n",
    "            print(\"load best weights\",settings[\"save_path\"] + settings['save_weights_file'])\n",
    "            siamese_net.load_weights(settings[\"save_path\"] + settings['save_weights_file'])\n",
    "            print(\"load best weights\",filepath)\n",
    "            wdcnn_net.load_weights(filepath)\n",
    "            for snr in snrs:\n",
    "                print(\"\\n%s_%s_%s\"%(exp,time_idx,snr) + '*'*80)\n",
    "                X_test_noise = []\n",
    "                if snr != None:\n",
    "                    for x in data.X_test:\n",
    "                        X_test_noise.append(utils.noise_rw(x,snr))\n",
    "                    X_test_noise = np.array(X_test_noise)\n",
    "                else:\n",
    "                    X_test_noise = data.X_test\n",
    "                \n",
    "                \n",
    "                # test 1_shot and 5_shot\n",
    "                siamese_loader.set_val(X_test_noise,data.y_test)\n",
    "                s = 'val'\n",
    "                preds_5_shot = []\n",
    "                prods_5_shot = []\n",
    "                scores = []\n",
    "                for k in range(5):\n",
    "                    val_acc,preds, prods = siamese_loader.test_oneshot2(siamese_net,len(siamese_loader.classes[s]),\n",
    "                                                                 len(siamese_loader.data[s]),verbose=False)\n",
    "    #                 utils.confusion_plot(preds[:,1],preds[:,0])\n",
    "                    print(val_acc,preds.shape, prods.shape)\n",
    "                    scores.append(val_acc)\n",
    "                    preds_5_shot.append(preds[:,1])\n",
    "                    prods_5_shot.append(prods)\n",
    "                preds = []\n",
    "                for line in np.array(preds_5_shot).T:\n",
    "                    pass\n",
    "                    preds.append(np.argmax(np.bincount(line)))\n",
    "    #             utils.confusion_plot(np.array(preds),data.y_test) \n",
    "                prod_preds = np.argmax(np.sum(prods_5_shot,axis=0),axis=1).reshape(-1)\n",
    "\n",
    "                score_5_shot = accuracy_score(data.y_test,np.array(preds))*100\n",
    "                print('5_shot:',score_5_shot)\n",
    "                \n",
    "                score_5_shot_prod = accuracy_score(data.y_test,prod_preds)*100\n",
    "                print('5_shot_prod:',score_5_shot_prod)\n",
    "                \n",
    "                scores_1_shot.append(scores[0])\n",
    "                scores_5_shot.append(score_5_shot)\n",
    "                scores_5_shot_prod.append(score_5_shot_prod)\n",
    "\n",
    "                # test wdcnn\n",
    "                score = wdcnn_net.evaluate(X_test_noise, y_test, verbose=0)[1]*100\n",
    "                print('wdcnn:', score)\n",
    "                scores_wdcnn.append(score)\n",
    "\n",
    "\n",
    "        a =pd.DataFrame(np.array(scores_1_shot).reshape(-1,len(snrs)))\n",
    "        a.columns = snrs\n",
    "        a.to_csv(\"tmp/%s/size_%s/scores_1_shot.csv\" % (exp_name,exp),index=True)\n",
    "\n",
    "        a =pd.DataFrame(np.array(scores_5_shot).reshape(-1,len(snrs)))\n",
    "        a.columns = snrs\n",
    "        a.to_csv(\"tmp/%s/size_%s/scores_5_shot.csv\" % (exp_name,exp),index=True)\n",
    "        \n",
    "        a =pd.DataFrame(np.array(scores_5_shot_prod).reshape(-1,len(snrs)))\n",
    "        a.columns = snrs\n",
    "        a.to_csv(\"tmp/%s/size_%s/scores_5_shot_prod.csv\" % (exp_name,exp),index=True)\n",
    "\n",
    "        a =pd.DataFrame(np.array(scores_wdcnn).reshape(-1,len(snrs)))\n",
    "        a.columns = snrs\n",
    "        a.to_csv(\"tmp/%s/size_%s/scores_wdcnn.csv\" % (exp_name,exp),index=True)   \n",
    "\n",
    "        \n",
    "EXPAB_train_and_test(exp_name,exps,is_training)"
   ]
  },
  {
   "cell_type": "code",
   "execution_count": 7,
   "metadata": {},
   "outputs": [
    {
     "data": {
      "text/plain": [
       "array([0, 1, 2, 2])"
      ]
     },
     "execution_count": 7,
     "metadata": {},
     "output_type": "execute_result"
    }
   ],
   "source": [
    "np.bincount([2,2,3,3,1])"
   ]
  },
  {
   "cell_type": "markdown",
   "metadata": {},
   "source": [
    "## Analysis"
   ]
  },
  {
   "cell_type": "code",
   "execution_count": 8,
   "metadata": {},
   "outputs": [],
   "source": [
    "def EXPAB_analysis(exp_name,exps):\n",
    "    scores_1_shot_all = pd.DataFrame()\n",
    "    scores_5_shot_all = pd.DataFrame()\n",
    "    scores_5_shot_prod_all = pd.DataFrame()\n",
    "    scores_wdcnn_all = pd.DataFrame()\n",
    "    for exp in exps:\n",
    "        file_path = \"tmp/%s/size_%s\" % (exp_name,exp)\n",
    "        tmp_data = pd.read_csv(\"%s/scores_1_shot.csv\" % (file_path), \n",
    "                               sep=',', index_col=0)\n",
    "        tmp_data['exp'] = exp \n",
    "        scores_1_shot_all = pd.concat([scores_1_shot_all,tmp_data],axis=0)\n",
    "\n",
    "        tmp_data = pd.read_csv(\"%s/scores_5_shot.csv\" % (file_path), \n",
    "                               sep=',', index_col=0)\n",
    "        tmp_data['exp'] = exp \n",
    "        scores_5_shot_all = pd.concat([scores_5_shot_all,tmp_data],axis=0)\n",
    "\n",
    "        tmp_data = pd.read_csv(\"%s/scores_5_shot_prod.csv\" % (file_path), \n",
    "                               sep=',', index_col=0)\n",
    "        tmp_data['exp'] = exp \n",
    "        scores_5_shot_prod_all = pd.concat([scores_5_shot_prod_all,tmp_data],axis=0)\n",
    "        \n",
    "        tmp_data = pd.read_csv(\"%s/scores_wdcnn.csv\" % (file_path), \n",
    "                               sep=',', index_col=0)\n",
    "        tmp_data['exp'] = exp \n",
    "        scores_wdcnn_all = pd.concat([scores_wdcnn_all,tmp_data],axis=0)\n",
    "\n",
    "\n",
    "    scores_1_shot_all.to_csv(\"tmp/%s/scores_1_shot_all.csv\" % (exp_name), float_format='%.6f', index=True)\n",
    "    scores_5_shot_all.to_csv(\"tmp/%s/scores_5_shot_all.csv\" % (exp_name), float_format='%.6f', index=True)\n",
    "    scores_5_shot_prod_all.to_csv(\"tmp/%s/scores_5_shot_prob_all.csv\" % (exp_name), float_format='%.6f', index=True)\n",
    "    scores_wdcnn_all.to_csv(\"tmp/%s/scores_wdcnn_all.csv\" % (exp_name), float_format='%.6f', index=True)\n",
    "\n",
    "    scores_1_shot_all['model'] = 'One-shot'\n",
    "    scores_5_shot_all['model'] = 'Five-shot'\n",
    "    scores_5_shot_prod_all['model'] = 'Five-shot-prob'\n",
    "    scores_wdcnn_all['model'] = 'WDCNN'\n",
    "\n",
    "    scores_all = pd.concat([scores_1_shot_all,scores_5_shot_all,scores_5_shot_prod_all,scores_wdcnn_all],axis=0)\n",
    "    scores_all.to_csv(\"tmp/%s/scores_all.csv\" % (exp_name), float_format='%.6f', index=True)   \n",
    "    \n",
    "    return scores_all"
   ]
  },
  {
   "cell_type": "code",
   "execution_count": 9,
   "metadata": {
    "scrolled": false
   },
   "outputs": [
    {
     "data": {
      "text/plain": [
       "(                             -4         -2          0          2          4  \\\n",
       " model          exp                                                            \n",
       " Five-shot      60     31.013333  46.673333  62.073333  72.013333  76.653333   \n",
       "                90     33.500000  49.560000  66.213333  79.266667  85.720000   \n",
       "                120    30.613333  47.966667  66.780000  80.906667  87.546667   \n",
       "                200    29.746667  45.166667  61.026667  76.320000  85.413333   \n",
       "                300    29.326667  44.160000  61.940000  77.793333  86.580000   \n",
       "                600    28.713333  45.540000  65.393333  80.273333  88.526667   \n",
       "                900    38.466667  53.826667  72.593333  87.386667  94.200000   \n",
       "                1500   34.886667  49.146667  66.120000  82.013333  92.513333   \n",
       "                6000   37.726667  55.146667  69.853333  83.713333  94.613333   \n",
       "                19800  41.320000  57.600000  71.486667  85.913333  95.180000   \n",
       " Five-shot-prob 60     31.826667  47.640000  63.393333  73.906667  78.393333   \n",
       "                90     34.700000  50.080000  66.526667  79.926667  86.440000   \n",
       "                120    31.866667  49.040000  67.080000  81.420000  88.120000   \n",
       "                200    29.913333  45.520000  61.320000  76.546667  85.693333   \n",
       "                300    29.300000  44.246667  62.133333  77.880000  86.626667   \n",
       "                600    28.753333  45.766667  65.626667  80.393333  88.626667   \n",
       "                900    38.946667  54.093333  72.593333  87.586667  94.200000   \n",
       "                1500   35.046667  49.606667  66.326667  82.173333  92.653333   \n",
       "                6000   37.873333  55.233333  69.820000  83.686667  94.573333   \n",
       "                19800  41.253333  57.540000  71.380000  85.953333  95.206667   \n",
       " One-shot       60     31.360000  46.613333  60.700000  70.520000  74.240000   \n",
       "                90     33.646667  49.346667  65.260000  77.626667  83.706667   \n",
       "                120    30.820000  47.800000  65.653333  79.513333  85.626667   \n",
       "                200    29.833333  45.006667  60.840000  76.113333  85.220000   \n",
       "                300    29.226667  44.140000  61.840000  77.613333  86.480000   \n",
       "                600    28.720000  45.453333  65.300000  80.100000  88.380000   \n",
       "                900    38.453333  53.693333  72.480000  87.386667  93.873333   \n",
       "                1500   34.726667  48.853333  66.160000  81.800000  92.026667   \n",
       "                6000   37.773333  54.993333  69.966667  83.500000  94.466667   \n",
       "                19800  41.226667  57.480000  71.340000  85.753333  95.160000   \n",
       " WDCNN          60     31.433333  45.126667  58.113333  66.073333  70.120000   \n",
       "                90     39.780000  56.640000  67.120000  71.860000  74.740000   \n",
       "                120    37.273333  56.020000  70.840000  77.213333  80.060000   \n",
       "                200    42.420000  64.586667  82.873333  89.126667  92.020000   \n",
       "                300    44.573333  71.680000  87.393333  93.306667  94.980000   \n",
       "                600    35.173333  59.186667  78.213333  89.620000  93.953333   \n",
       "                900    47.773333  68.853333  87.946667  95.086667  97.253333   \n",
       "                1500   37.806667  63.993333  90.486667  97.353333  98.626667   \n",
       "                6000   34.506667  64.120000  91.433333  97.866667  99.000000   \n",
       "                19800  45.060000  63.626667  83.300000  94.966667  98.913333   \n",
       " \n",
       "                               6          8         10  Unnamed: 9  \n",
       " model          exp                                                 \n",
       " Five-shot      60     79.260000  79.560000  80.646667   80.986667  \n",
       "                90     88.846667  89.740000  90.673333   90.773333  \n",
       "                120    90.586667  91.173333  91.780000   92.100000  \n",
       "                200    90.586667  92.626667  93.666667   94.220000  \n",
       "                300    91.326667  93.666667  94.526667   95.660000  \n",
       "                600    92.440000  94.286667  95.193333   96.066667  \n",
       "                900    96.773333  97.780000  98.146667   98.513333  \n",
       "                1500   96.326667  98.046667  98.800000   99.080000  \n",
       "                6000   98.406667  99.460000  99.640000   99.666667  \n",
       "                19800  98.920000  99.553333  99.686667   99.780000  \n",
       " Five-shot-prob 60     80.693333  81.740000  82.346667   82.800000  \n",
       "                90     89.240000  90.260000  90.946667   91.373333  \n",
       "                120    91.046667  91.693333  92.293333   92.660000  \n",
       "                200    90.786667  92.700000  93.720000   94.320000  \n",
       "                300    91.333333  93.633333  94.553333   95.653333  \n",
       "                600    92.493333  94.340000  95.220000   96.140000  \n",
       "                900    96.920000  97.873333  98.206667   98.553333  \n",
       "                1500   96.480000  98.100000  98.806667   99.126667  \n",
       "                6000   98.460000  99.493333  99.620000   99.660000  \n",
       "                19800  98.926667  99.573333  99.666667   99.773333  \n",
       " One-shot       60     77.333333  78.020000  78.293333   79.326667  \n",
       "                90     86.180000  87.846667  88.286667   88.413333  \n",
       "                120    88.520000  89.080000  89.420000   90.153333  \n",
       "                200    90.213333  92.513333  93.473333   94.000000  \n",
       "                300    91.046667  93.413333  94.253333   95.446667  \n",
       "                600    92.400000  94.300000  95.040000   96.000000  \n",
       "                900    96.220000  97.480000  97.766667   98.073333  \n",
       "                1500   96.033333  97.800000  98.313333   98.793333  \n",
       "                6000   98.406667  99.413333  99.620000   99.653333  \n",
       "                19800  98.880000  99.566667  99.666667   99.786667  \n",
       " WDCNN          60     72.560000  72.820000  73.260000   73.973333  \n",
       "                90     75.840000  76.753333  77.086667   77.393333  \n",
       "                120    81.653333  82.813333  83.700000   84.193333  \n",
       "                200    93.200000  93.840000  94.100000   93.966667  \n",
       "                300    96.060000  96.413333  96.613333   96.593333  \n",
       "                600    95.666667  96.606667  96.893333   97.026667  \n",
       "                900    98.000000  98.293333  98.500000   98.686667  \n",
       "                1500   98.793333  98.780000  98.920000   98.873333  \n",
       "                6000   99.306667  99.300000  99.400000   99.420000  \n",
       "                19800  99.546667  99.613333  99.653333   99.653333  ,\n",
       "                              -4         -2          0          2         4  \\\n",
       " model          exp                                                           \n",
       " Five-shot      60     13.327185  14.617684  13.138469  10.169547  8.631551   \n",
       "                90     10.694164  12.540431  11.240229   7.092307  5.313982   \n",
       "                120     7.528491   9.271865  10.199349   8.899344  6.781937   \n",
       "                200     9.377729  11.246177  12.459589  10.828457  7.308910   \n",
       "                300     9.422181  12.513504  16.169250  12.925443  9.766708   \n",
       "                600     5.390965   6.594767   9.456676   8.750149  6.836774   \n",
       "                900    10.815929  13.266929  15.080197  10.884306  6.599734   \n",
       "                1500    9.728600  11.264260  12.794655  10.778441  5.472616   \n",
       "                6000    7.691901   7.926375   7.762667   8.134573  5.647153   \n",
       "                19800   7.679047   7.318198   8.299344   9.367284  6.114582   \n",
       " Five-shot-prob 60     12.821262  14.509983  13.248536  10.021833  8.428354   \n",
       "                90     11.145975  11.889109  11.159868   7.010832  5.558762   \n",
       "                120     7.760750   9.435392   9.761114   8.626604  6.871506   \n",
       "                200     9.393418  11.244307  12.425509  11.010417  7.226475   \n",
       "                300     9.344442  12.508918  16.143624  12.957359  9.715783   \n",
       "                600     5.452918   6.663420   9.426661   8.718654  6.853399   \n",
       "                900    10.853185  12.927371  15.076226  10.720470  6.603703   \n",
       "                1500    9.570254  11.130232  12.657354  10.639184  5.338927   \n",
       "                6000    7.585579   7.798500   7.848182   8.131697  5.717088   \n",
       "                19800   7.793643   7.289178   8.285804   9.311481  6.028156   \n",
       " One-shot       60     12.605511  13.781140  13.578027  10.283459  9.148403   \n",
       "                90     10.797901  11.523637  10.261468   6.736838  5.471987   \n",
       "                120     7.559235   8.909421   9.726400   8.298893  6.502196   \n",
       "                200     9.395370  11.081366  12.507783  10.904993  7.520890   \n",
       "                300     9.388768  12.290631  16.121446  13.151027  9.701934   \n",
       "                600     5.227261   6.446019   9.407910   8.638483  6.941867   \n",
       "                900    10.483640  12.992133  14.658588  10.417475  6.705777   \n",
       "                1500    9.655054  11.283183  12.653149  10.679510  5.742481   \n",
       "                6000    7.679559   7.797492   7.833695   8.395139  5.646341   \n",
       "                19800   7.337300   7.303595   8.497455   9.309270  6.086334   \n",
       " WDCNN          60      5.986007   6.598455   4.199532   1.725204  2.760422   \n",
       "                90      3.789126   3.239984   2.989385   2.411464  2.807000   \n",
       "                120     6.706195   8.832717   4.880054   3.279680  2.596435   \n",
       "                200     5.386971   6.606097   3.768127   2.321312  2.035601   \n",
       "                300     7.051636   5.521658   4.197794   2.806042  1.750402   \n",
       "                600     4.313254  12.851934  14.064007   9.539701  6.115347   \n",
       "                900     6.784102   6.272770   5.977016   3.802191  1.608981   \n",
       "                1500    6.269499   6.369147   2.965778   0.846900  0.389572   \n",
       "                6000    4.505093   8.550520   3.769220   1.177568  0.470908   \n",
       "                19800   5.740343   6.050795   4.859452   2.705982  0.731928   \n",
       " \n",
       "                              6         8        10  Unnamed: 9  \n",
       " model          exp                                              \n",
       " Five-shot      60     7.848921  7.664924  7.899518    7.955361  \n",
       "                90     4.982360  4.969422  4.675275    4.864787  \n",
       "                120    6.155475  5.695855  5.734113    5.307459  \n",
       "                200    5.128597  4.203279  3.711843    3.528802  \n",
       "                300    6.491088  4.743626  4.137627    3.251767  \n",
       "                600    5.386420  4.053508  3.390106    2.575458  \n",
       "                900    4.148946  2.828849  2.442087    1.927954  \n",
       "                1500   2.874522  1.477330  0.734130    0.447266  \n",
       "                6000   2.719985  0.617067  0.273936    0.254089  \n",
       "                19800  2.104142  0.519604  0.241922    0.116679  \n",
       " Five-shot-prob 60     7.639062  7.595071  7.634382    7.819603  \n",
       "                90     4.739008  4.837374  4.811468    4.658760  \n",
       "                120    5.863679  5.789137  5.391195    5.334118  \n",
       "                200    5.095008  4.189628  3.709170    3.503288  \n",
       "                300    6.564409  4.914021  4.170691    3.268678  \n",
       "                600    5.284885  4.046392  3.292316    2.506590  \n",
       "                900    3.870875  2.721360  2.312023    1.898611  \n",
       "                1500   2.772091  1.414958  0.659576    0.448467  \n",
       "                6000   2.587410  0.530872  0.271103    0.281932  \n",
       "                19800  2.106176  0.480935  0.250380    0.130496  \n",
       " One-shot       60     7.826062  8.183312  7.751171    8.015246  \n",
       "                90     5.574927  5.232069  5.428325    5.558560  \n",
       "                120    6.583467  6.082151  6.125896    5.740799  \n",
       "                200    5.376214  4.299060  3.742964    3.673964  \n",
       "                300    6.645338  4.944113  4.372139    3.343920  \n",
       "                600    5.320863  3.828089  3.357972    2.669122  \n",
       "                900    4.888133  3.162914  2.905731    2.804666  \n",
       "                1500   3.083819  1.844226  1.124964    0.724476  \n",
       "                6000   2.577628  0.728244  0.238023    0.284985  \n",
       "                19800  2.146625  0.500526  0.319356    0.139506  \n",
       " WDCNN          60     2.544059  2.916146  2.470874    2.722778  \n",
       "                90     3.026155  2.995599  3.089700    3.456253  \n",
       "                120    2.722709  2.309766  2.149010    2.493491  \n",
       "                200    1.840417  1.837160  1.669752    1.655118  \n",
       "                300    1.185073  1.214262  0.874218    1.050291  \n",
       "                600    4.166926  3.077015  2.566942    2.268977  \n",
       "                900    1.003386  0.731065  0.603886    0.424457  \n",
       "                1500   0.375819  0.375321  0.369352    0.347354  \n",
       "                6000   0.223109  0.228394  0.195864    0.217482  \n",
       "                19800  0.246235  0.073668  0.117677    0.079766  )"
      ]
     },
     "execution_count": 9,
     "metadata": {},
     "output_type": "execute_result"
    }
   ],
   "source": [
    "# analysis\n",
    "scores_all = EXPAB_analysis(exp_name,exps)\n",
    "scores_all_mean = scores_all.groupby(['model','exp']).mean()\n",
    "scores_all_std = scores_all.groupby(['model','exp']).std()\n",
    "scores_all_mean.to_csv(\"tmp/%s/scores_all_mean.csv\" % (exp_name), float_format='%.2f', index=True)\n",
    "scores_all_std.to_csv(\"tmp/%s/scores_all_std.csv\" % (exp_name), float_format='%.2f', index=True)\n",
    "scores_all_mean, scores_all_std"
   ]
  },
  {
   "cell_type": "code",
   "execution_count": 10,
   "metadata": {},
   "outputs": [
    {
     "data": {
      "text/plain": [
       "(800, 11)"
      ]
     },
     "execution_count": 10,
     "metadata": {},
     "output_type": "execute_result"
    }
   ],
   "source": [
    "scores_all.shape"
   ]
  },
  {
   "cell_type": "markdown",
   "metadata": {},
   "source": [
    "## 90 t-SNE and confusion matrix results"
   ]
  },
  {
   "cell_type": "code",
   "execution_count": 11,
   "metadata": {},
   "outputs": [
    {
     "name": "stdout",
     "output_type": "stream",
     "text": [
      "{'train': [0, 1, 2, 3, 4, 5, 6, 7, 8, 9], 'val': [0, 1, 2, 3, 4, 5, 6, 7, 8, 9]}\n",
      "540 750\n",
      "[54, 54, 54, 54, 54, 54, 54, 54, 54, 54] [75, 75, 75, 75, 75, 75, 75, 75, 75, 75]\n",
      "52806\n"
     ]
    }
   ],
   "source": [
    "from sklearn.metrics import accuracy_score\n",
    "import keras\n",
    "\n",
    "num = 90\n",
    "train_classes = sorted(list(set(data.y_train)))\n",
    "train_indices = [np.where(data.y_train == i)[0] for i in train_classes]\n",
    "\n",
    "train_idxs = []\n",
    "val_idxs = []\n",
    "for i, c in enumerate(train_classes):\n",
    "    select_idx = train_indices[i][np.random.choice(len(train_indices[i]), num, replace=False)]\n",
    "    split = int(0.6*num)\n",
    "    train_idxs.extend(select_idx[:split])\n",
    "    val_idxs.extend(select_idx[split:])\n",
    "X_train, y_train = data.X_train[train_idxs],data.y_train[train_idxs] \n",
    "X_val, y_val = data.X_train[val_idxs],data.y_train[val_idxs] \n",
    "\n",
    "\n",
    "siamese_loader = siamese.Siamese_Loader(X_train,\n",
    "                                y_train,\n",
    "                                data.X_test,\n",
    "                                data.y_test)\n",
    "\n",
    "siamese_net = models.load_siamese_net()\n",
    "wdcnn_net = models.load_wdcnn_net()\n",
    " \n",
    "\n",
    "settings[\"save_path\"] = \"tmp/%s/size_%s/time_%s/\" % (exp_name,num,0)\n",
    "siamese_net.load_weights(settings[\"save_path\"] + settings['save_weights_file'])\n",
    "wdcnn_net.load_weights(\"%s/weights-best-10-cnn-low-data.hdf5\" % (settings[\"save_path\"]))\n",
    "\n",
    "\n",
    "y_test = keras.utils.to_categorical(data.y_test, data.nclasses)  "
   ]
  },
  {
   "cell_type": "code",
   "execution_count": 11,
   "metadata": {},
   "outputs": [
    {
     "data": {
      "image/png": "[encoded data removed]",
      "text/plain": [
       "<Figure size 360x360 with 1 Axes>"
      ]
     },
     "metadata": {},
     "output_type": "display_data"
    }
   ],
   "source": [
    "from keras import backend as K\n",
    "import numpy as np\n",
    "try: from sklearn.manifold import TSNE; HAS_SK = True\n",
    "except: HAS_SK = False; print('Please install sklearn for layer visualization')\n",
    "\n",
    "intermediate_tensor_function = K.function([siamese_net.layers[2].layers[0].input],\n",
    "                                          [siamese_net.layers[2].layers[-1].output])\n",
    "\n",
    "plot_only = len(data.y_test)\n",
    "intermediate_tensor = intermediate_tensor_function([data.X_test[0:plot_only]])[0]\n",
    "# Visualization of trained flatten layer (T-SNE)\n",
    "tsne = TSNE(perplexity=30, n_components=2, init='pca', n_iter=5000)\n",
    "low_dim_embs = tsne.fit_transform(intermediate_tensor)\n",
    "p_data = pd.DataFrame(columns=['x', 'y', 'label'])\n",
    "p_data.x = low_dim_embs[:, 0]\n",
    "p_data.y = low_dim_embs[:, 1]\n",
    "p_data.label = data.y_test[0:plot_only]\n",
    "utils.plot_with_labels(p_data)\n",
    "plt.savefig(\"%s/90-tsne-one-shot.pdf\" % (settings[\"save_path\"]))"
   ]
  },
  {
   "cell_type": "code",
   "execution_count": 12,
   "metadata": {},
   "outputs": [
    {
     "data": {
      "image/png": "[encoded data removed]",
      "text/plain": [
       "<Figure size 360x360 with 1 Axes>"
      ]
     },
     "metadata": {},
     "output_type": "display_data"
    }
   ],
   "source": [
    "from keras import backend as K\n",
    "import numpy as np\n",
    "\n",
    "intermediate_tensor_function = K.function([wdcnn_net.layers[1].layers[0].input],\n",
    "                                          [wdcnn_net.layers[1].layers[-1].output])\n",
    "plot_only = len(data.y_test)\n",
    "intermediate_tensor = intermediate_tensor_function([data.X_test[0:plot_only]])[0]\n",
    "# Visualization of trained flatten layer (T-SNE)\n",
    "tsne = TSNE(perplexity=30, n_components=2, init='pca', n_iter=5000)\n",
    "low_dim_embs = tsne.fit_transform(intermediate_tensor)\n",
    "import pandas as pd\n",
    "p_data = pd.DataFrame(columns=['x', 'y', 'label'])\n",
    "p_data.x = low_dim_embs[:, 0]\n",
    "p_data.y = low_dim_embs[:, 1]\n",
    "p_data.label = data.y_test[0:plot_only]\n",
    "utils.plot_with_labels(p_data)\n",
    "plt.savefig(\"%s/90-tsne-wdcnn.pdf\" % (settings[\"save_path\"]))"
   ]
  },
  {
   "cell_type": "code",
   "execution_count": 13,
   "metadata": {},
   "outputs": [
    {
     "name": "stderr",
     "output_type": "stream",
     "text": [
      "/usr/local/lib/python3.5/dist-packages/matplotlib/__init__.py:886: MatplotlibDeprecationWarning: \n",
      "examples.directory is deprecated; in the future, examples will be found relative to the 'datapath' directory.\n",
      "  \"found relative to the 'datapath' directory.\".format(key))\n",
      "/usr/local/lib/python3.5/dist-packages/matplotlib/__init__.py:855: MatplotlibDeprecationWarning: \n",
      "examples.directory is deprecated; in the future, examples will be found relative to the 'datapath' directory.\n",
      "  \"found relative to the 'datapath' directory.\".format(key))\n",
      "/usr/local/lib/python3.5/dist-packages/matplotlib/__init__.py:846: MatplotlibDeprecationWarning: \n",
      "The text.latex.unicode rcparam was deprecated in Matplotlib 2.2 and will be removed in 3.1.\n",
      "  \"2.2\", name=key, obj_type=\"rcparam\", addendum=addendum)\n"
     ]
    },
    {
     "name": "stdout",
     "output_type": "stream",
     "text": [
      "Confusion matrix, without normalization\n",
      "[[75  0  0  0  0  0  0  0  0  0]\n",
      " [ 0 72  0  3  0  0  0  0  0  0]\n",
      " [ 4  1 40 10  0 20  0  0  0  0]\n",
      " [ 0  4  2 62  0  1  2  0  4  0]\n",
      " [ 0  0  0  0 74  0  1  0  0  0]\n",
      " [ 0  1 21  0  0 53  0  0  0  0]\n",
      " [ 0  0  0  0  3  0 70  0  0  2]\n",
      " [ 0  0  0  0  0  0  0 75  0  0]\n",
      " [ 0  0  0  2  0  0  0  0 73  0]\n",
      " [ 0  0  0  0  0  0  0  0  0 75]]\n"
     ]
    },
    {
     "data": {
      "image/png": "[encoded data removed]",
      "text/plain": [
       "<Figure size 400x400 with 2 Axes>"
      ]
     },
     "metadata": {},
     "output_type": "display_data"
    }
   ],
   "source": [
    "from sklearn.metrics import f1_score,accuracy_score,confusion_matrix\n",
    "s = 'val'\n",
    "val_acc,preds = siamese_loader.test_oneshot2(siamese_net,len(siamese_loader.classes[s]),len(siamese_loader.data[s]),verbose=False)\n",
    "# utils.confusion_plot(preds[:,1],preds[:,0])\n",
    "utils.plot_confusion_matrix(confusion_matrix(data.y_test,preds[:,1]),  normalize=False,  title=None)\n",
    "plt.savefig(\"%s/90-cm-one-shot.pdf\" % (settings[\"save_path\"]))"
   ]
  },
  {
   "cell_type": "code",
   "execution_count": 14,
   "metadata": {
    "scrolled": true
   },
   "outputs": [
    {
     "name": "stderr",
     "output_type": "stream",
     "text": [
      "/usr/local/lib/python3.5/dist-packages/matplotlib/__init__.py:886: MatplotlibDeprecationWarning: \n",
      "examples.directory is deprecated; in the future, examples will be found relative to the 'datapath' directory.\n",
      "  \"found relative to the 'datapath' directory.\".format(key))\n",
      "/usr/local/lib/python3.5/dist-packages/matplotlib/__init__.py:855: MatplotlibDeprecationWarning: \n",
      "examples.directory is deprecated; in the future, examples will be found relative to the 'datapath' directory.\n",
      "  \"found relative to the 'datapath' directory.\".format(key))\n",
      "/usr/local/lib/python3.5/dist-packages/matplotlib/__init__.py:846: MatplotlibDeprecationWarning: \n",
      "The text.latex.unicode rcparam was deprecated in Matplotlib 2.2 and will be removed in 3.1.\n",
      "  \"2.2\", name=key, obj_type=\"rcparam\", addendum=addendum)\n"
     ]
    },
    {
     "name": "stdout",
     "output_type": "stream",
     "text": [
      "Confusion matrix, without normalization\n",
      "[[75  0  0  0  0  0  0  0  0  0]\n",
      " [ 0 75  0  0  0  0  0  0  0  0]\n",
      " [ 4  8 20 25  0  1  0  0 17  0]\n",
      " [ 1  2  1 54  0  0  0  0 16  1]\n",
      " [ 0  0  0  0 75  0  0  0  0  0]\n",
      " [ 0  3  8  0  0 62  0  0  0  2]\n",
      " [ 0  0  0  0  3  0 61 11  0  0]\n",
      " [ 0  0  0  0  0  0  1 74  0  0]\n",
      " [ 0  1  1  4  0  0  0  0 69  0]\n",
      " [ 0  0  1  0  0 31  1  0  0 42]]\n"
     ]
    },
    {
     "data": {
      "image/png": "[encoded data removed]",
      "text/plain": [
       "<Figure size 400x400 with 2 Axes>"
      ]
     },
     "metadata": {},
     "output_type": "display_data"
    }
   ],
   "source": [
    "pred = np.argmax(wdcnn_net.predict(data.X_test), axis=1).reshape(-1,1)\n",
    "# utils.confusion_plot(pred,data.y_test)\n",
    "utils.plot_confusion_matrix(confusion_matrix(data.y_test,pred),  normalize=False,title=None)\n",
    "plt.savefig(\"%s/90-cm-wdcnn.pdf\" % (settings[\"save_path\"]))"
   ]
  },
  {
   "cell_type": "code",
   "execution_count": null,
   "metadata": {},
   "outputs": [],
   "source": []
  }
 ],
 "metadata": {
  "kernelspec": {
   "display_name": "Python 3",
   "language": "python",
   "name": "python3"
  },
  "language_info": {
   "codemirror_mode": {
    "name": "ipython",
    "version": 3
   },
   "file_extension": ".py",
   "mimetype": "text/x-python",
   "name": "python",
   "nbconvert_exporter": "python",
   "pygments_lexer": "ipython3",
   "version": "3.5.2"
  }
 },
 "nbformat": 4,
 "nbformat_minor": 2
}
